{
  "nbformat": 4,
  "nbformat_minor": 0,
  "metadata": {
    "colab": {
      "provenance": []
    },
    "kernelspec": {
      "name": "python3",
      "display_name": "Python 3"
    },
    "language_info": {
      "name": "python"
    }
  },
  "cells": [
    {
      "cell_type": "markdown",
      "source": [
        "Theoretical Questions:-"
      ],
      "metadata": {
        "id": "ihQ6d7xZnLAS"
      }
    },
    {
      "cell_type": "code",
      "execution_count": 1,
      "metadata": {
        "id": "SQpfZDSDl-RP"
      },
      "outputs": [],
      "source": [
        "# Ques 1:- Explain the purpose and advantages of NumPy in scientific computing and data analysis. How does it enhance Python's capabilities for numerical operations?\n",
        "# Ans:- NumPy is essential in scientific computing and data analysis because it provides efficient handling of large multi-dimensional arrays and matrices, along with a wide array of mathematical functions. Its advantages include:\n",
        "# *Fast performance due to optimized C-based operations.\n",
        "# *Memory efficiency with compact data structures.\n",
        "# *Broad functionality for linear algebra, random numbers, and more.\n",
        "# *Seamless integration with other scientific libraries like SciPy, Pandas, and Matplotlib. Overall, NumPy enhances Python by enabling faster and more efficient numerical operations, critical for handling large datasets and complex computations."
      ]
    },
    {
      "cell_type": "code",
      "source": [
        "# Ques 2:- Compare and contrast np.mean() and np.average() functions in NumPy. When would you use one over the other?\n",
        "# Ans:-  Both np.mean() and np.average() in NumPy compute the arithmetic mean, but they differ in key ways:\n",
        "# *np.mean():\n",
        "# Calculates the simple average of the array elements.\n",
        "# Does not consider weights.\n",
        "# Used when you need the standard mean without any weighting.\n",
        "# *np.average():\n",
        "# Allows for weighted averages by accepting a weights parameter.\n",
        "# If no weights are provided, it behaves like np.mean().\n",
        "# *Use Case:\n",
        "# Use np.mean() when you need a straightforward average.\n",
        "# Use np.average() when you want to compute a weighted mean."
      ],
      "metadata": {
        "id": "Q5ENmCV-od46"
      },
      "execution_count": 2,
      "outputs": []
    },
    {
      "cell_type": "code",
      "source": [
        "# Ques 3:- Describe the methods for reversing a NumPy array along different axes. Provide examples for 1D and 2D arrays.\n",
        "# Ans:- You can reverse a NumPy array along different axes using slicing or the np.flip() function:\n",
        "# 1. For 1D array:\n",
        "# Using slicing: arr[::-1]\n",
        "# Using np.flip(): np.flip(arr)\n",
        "import numpy as np\n",
        "arr_1d = np.array([1, 2, 3, 4])\n",
        "reversed_1d = arr_1d[::-1]  # [4, 3, 2, 1]\n",
        "# 2. . For 2D array:\n",
        "# Reverse rows (along axis 0): arr[::-1, :] or np.flip(arr, axis=0)\n",
        "# Reverse columns (along axis 1): arr[:, ::-1] or np.flip(arr, axis=1)\n",
        "# Reverse both axes: np.flip(arr)\n",
        "arr_2d = np.array([[1, 2], [3, 4]])\n",
        "reversed_rows = arr_2d[::-1, :]  # [[3, 4], [1, 2]]\n",
        "reversed_cols = arr_2d[:, ::-1]  # [[2, 1], [4, 3]]"
      ],
      "metadata": {
        "id": "cxhdVurupNVo"
      },
      "execution_count": 4,
      "outputs": []
    },
    {
      "cell_type": "code",
      "source": [
        "# Ques 4:-  How can you determine the data type of elements in a NumPy array? Discuss the importance of data types in memory management and performance.\n",
        "# Ans:- To determine the data type of elements in a NumPy array, use the dtype attribute:\n",
        "arr = np.array([1, 2, 3])\n",
        "print(arr.dtype)  # Output: int64 (for example)\n",
        "# Importance of Data Types:\n",
        "# Memory Management: Data types define how much memory each element requires (e.g., int32 uses less memory than int64).\n",
        "# Performance: Choosing the right data type optimizes memory usage and improves computational efficiency, especially when dealing with large arrays or performing intensive calculations."
      ],
      "metadata": {
        "colab": {
          "base_uri": "https://localhost:8080/"
        },
        "id": "8z1vSr7yqGxO",
        "outputId": "00e4f8cd-6330-46bf-f4dc-a5847d382142"
      },
      "execution_count": 5,
      "outputs": [
        {
          "output_type": "stream",
          "name": "stdout",
          "text": [
            "int64\n"
          ]
        }
      ]
    },
    {
      "cell_type": "code",
      "source": [
        "# Ques 5:-  Define ndarrays in NumPy and explain their key features. How do they differ from standard Python lists?\n",
        "# Ans:- ndarray (N-dimensional array) is the core data structure in NumPy, designed for efficient numerical computations.\n",
        "# *Key Features:\n",
        "# Homogeneous elements: All elements have the same data type.\n",
        "# Fixed size: Once created, the size of an ndarray is fixed.\n",
        "# Efficient memory use: Stored in contiguous memory blocks, enabling faster access and operations.\n",
        "# Supports multi-dimensional data: Can handle arrays with any number of dimensions (1D, 2D, 3D, etc.).\n",
        "# Broadcasting: Supports element-wise operations without the need for explicit loops.\n",
        "# *Differences from Python Lists:\n",
        "# Performance: ndarray is much faster and more memory-efficient than lists.\n",
        "# Homogeneity: All elements in an ndarray must be of the same type, whereas lists can hold mixed types.\n",
        "# Advanced operations: NumPy arrays support vectorized operations and broadcasting, which lists do not."
      ],
      "metadata": {
        "id": "YyzX_u05qtZn"
      },
      "execution_count": 6,
      "outputs": []
    },
    {
      "cell_type": "code",
      "source": [
        "# Ques 6:-  Analyze the performance benefits of NumPy arrays over Python lists for large-scale numerical operations.\n",
        "# Ans:- NumPy arrays offer significant performance benefits over Python lists for large-scale numerical operations due to:\n",
        "# *Memory Efficiency: NumPy arrays store elements in contiguous memory blocks, reducing overhead compared to lists, which store pointers to objects.\n",
        "# *Vectorization: NumPy allows for element-wise operations without explicit loops, leveraging optimized C and Fortran code, making operations much faster.\n",
        "# *Fixed Data Types: Arrays have a single data type, leading to more efficient memory use and quicker operations compared to heterogeneous Python lists.\n",
        "# *Built-in Functions: NumPy provides optimized mathematical functions, further enhancing performance for large datasets.\n",
        "# These advantages make NumPy ideal for high-performance computing tasks."
      ],
      "metadata": {
        "id": "67sChU53rOSj"
      },
      "execution_count": 7,
      "outputs": []
    },
    {
      "cell_type": "code",
      "source": [
        "# Ques 7:- Compare vstack() and hstack() functions in NumPy. Provide examples demonstrating their usage and output.\n",
        "# Ans:-\n",
        "# In NumPy, vstack() and hstack() are used to stack arrays vertically and horizontally, respectively:\n",
        "# *vstack() (Vertical Stack):\n",
        "# Stacks arrays along the vertical axis (row-wise).\n",
        "# Example:-\n",
        "a = np.array([1, 2])\n",
        "b = np.array([3, 4])\n",
        "np.vstack((a, b))\n",
        "# Output:\n",
        "# [[1, 2],\n",
        "#  [3, 4]]\n",
        "# *hstack() (Horizontal Stack):\n",
        "# Stacks arrays along the horizontal axis (column-wise).\n",
        "# Example:-\n",
        "a = np.array([1, 2])\n",
        "b = np.array([3, 4])\n",
        "np.hstack((a, b))\n",
        "# Output: [1, 2, 3, 4]\n",
        "# vstack() is used for vertical stacking (adding rows), while hstack() is used for horizontal stacking (adding columns)."
      ],
      "metadata": {
        "colab": {
          "base_uri": "https://localhost:8080/"
        },
        "id": "nNpXhOu0rjR5",
        "outputId": "ff4d5378-596b-4cfb-8bc2-a2327d4df001"
      },
      "execution_count": 8,
      "outputs": [
        {
          "output_type": "execute_result",
          "data": {
            "text/plain": [
              "array([1, 2, 3, 4])"
            ]
          },
          "metadata": {},
          "execution_count": 8
        }
      ]
    },
    {
      "cell_type": "code",
      "source": [
        "# Ques 8:-  Explain the differences between fliplr() and flipud() methods in NumPy, including their effects on various array dimensions.\n",
        "# Ans:- In NumPy, fliplr() and flipud() are used to flip arrays along specific axes:\n",
        "# fliplr() (Flip Left to Right):\n",
        "# Flips the array horizontally (reverses the order of columns).\n",
        "# Applicable to 2D arrays or higher.\n",
        "# Example:- arr = np.array([[1, 2], [3, 4]])\n",
        "np.fliplr(arr)\n",
        "# Output: [[2, 1], [4, 3]]\n",
        "# flipud() (Flip Up to Down):\n",
        "# Flips the array vertically (reverses the order of rows).\n",
        "# Example:\n",
        "np.flipud(arr)\n",
        "# Output: [[3, 4], [1, 2]]\n",
        "# fliplr() flips along the horizontal axis (columns), while flipud() flips along the vertical axis (rows). Both are useful for manipulating 2D or multi-dimensional arrays."
      ],
      "metadata": {
        "id": "jfM2dJmbsgqR"
      },
      "execution_count": null,
      "outputs": []
    },
    {
      "cell_type": "code",
      "source": [
        "# Ques 9:-  Discuss the functionality of the array_split() method in NumPy. How does it handle uneven splits?\n",
        "# Ans:-\n",
        "# The array_split() method in NumPy splits an array into specified sub-arrays. Unlike split(), it handles uneven splits by distributing elements as evenly as possible among the sub-arrays.\n",
        "# Handling Uneven Splits:\n",
        "# If the array cannot be split evenly, the extra elements are added to the earlier sub-arrays.\n",
        "# Example:-\n",
        "arr = np.array([1, 2, 3, 4, 5])\n",
        "np.array_split(arr, 3)\n",
        "# Output: [array([1, 2]), array([3, 4]), array([5])]\n",
        "# Here, the array is split into three parts, with one extra element in the first two sub-arrays.\n",
        "# This ensures flexibility when the array size isn't perfectly divisible."
      ],
      "metadata": {
        "id": "51jPqWx5snGb"
      },
      "execution_count": null,
      "outputs": []
    },
    {
      "cell_type": "code",
      "source": [
        "# Ques 10:- Explain the concepts of vectorization and broadcasting in NumPy. How do they contribute to efficient array operations?\n",
        "# Ans:-\n",
        "# *Vectorization:\n",
        "# Definition: Vectorization refers to the process of performing operations on entire arrays or large datasets at once, rather than using explicit loops.\n",
        "# Benefit: It leverages optimized low-level implementations (often in C or Fortran) for faster execution, reducing overhead and improving performance significantly.\n",
        "# *Broadcasting:\n",
        "# Definition: Broadcasting is a technique that allows NumPy to perform arithmetic operations on arrays of different shapes and sizes.\n",
        "# How it Works: NumPy automatically expands the smaller array’s dimensions to match the larger array’s shape, enabling element-wise operations without requiring explicit replication of data.\n",
        "# *Contribution to Efficient Array Operations:\n",
        "# Reduced Complexity: Vectorization and broadcasting simplify code by eliminating the need for loops, making it more readable and maintainable.\n",
        "# Performance Gains: Both techniques take advantage of low-level optimizations, resulting in faster computations, especially for large datasets.\n",
        "# Together, vectorization and broadcasting make NumPy powerful for numerical computations, allowing for efficient and concise operations on arrays."
      ],
      "metadata": {
        "id": "_c-R4zC6s5ir"
      },
      "execution_count": null,
      "outputs": []
    },
    {
      "cell_type": "markdown",
      "source": [
        "Practical Questions\n"
      ],
      "metadata": {
        "id": "jwl83lzetVZA"
      }
    },
    {
      "cell_type": "code",
      "source": [
        "# Ques 1:- Create a 3x3 NumPy array with random integers between 1 and 100. Then, interchange its rows and columns.\n",
        "# Ans:-\n",
        "import numpy as np\n",
        "# Create a 3x3 NumPy array with random integers between 1 and 100\n",
        "array_3x3 = np.random.randint(1, 101, size=(3, 3))\n",
        "# Interchange rows and columns (transpose the array)\n",
        "transposed_array = array_3x3.T\n",
        "# Print the original and transposed arrays\n",
        "print(\"Original Array:\")\n",
        "print(array_3x3)\n",
        "print(\"\\nTransposed Array:\")\n",
        "print(transposed_array)"
      ],
      "metadata": {
        "colab": {
          "base_uri": "https://localhost:8080/"
        },
        "id": "xCGr3KkUtacO",
        "outputId": "82cf2ce6-d90a-4287-b306-443271e26d10"
      },
      "execution_count": 10,
      "outputs": [
        {
          "output_type": "stream",
          "name": "stdout",
          "text": [
            "Original Array:\n",
            "[[67 43 71]\n",
            " [26 85  1]\n",
            " [37  5 15]]\n",
            "\n",
            "Transposed Array:\n",
            "[[67 26 37]\n",
            " [43 85  5]\n",
            " [71  1 15]]\n"
          ]
        }
      ]
    },
    {
      "cell_type": "code",
      "source": [
        "# Ques 2:-  Generate a 1D NumPy array with 10 elements. Reshape it into a 2x5 array, then into a 5x2 array.\n",
        "# Ans:-\n",
        "import numpy as np\n",
        "# Generate a 1D NumPy array with 10 elements\n",
        "array_1d = np.arange(10)  # This creates an array with elements from 0 to 9\n",
        "# Reshape it into a 2x5 array\n",
        "array_2x5 = array_1d.reshape(2, 5)\n",
        "# Reshape it into a 5x2 array\n",
        "array_5x2 = array_1d.reshape(5, 2)\n",
        "# Print the original and reshaped arrays\n",
        "print(\"Original 1D Array:\")\n",
        "print(array_1d)\n",
        "print(\"\\nReshaped to 2x5 Array:\")\n",
        "print(array_2x5)\n",
        "print(\"\\nReshaped to 5x2 Array:\")\n",
        "print(array_5x2)"
      ],
      "metadata": {
        "colab": {
          "base_uri": "https://localhost:8080/"
        },
        "id": "O41M8_spt5Ep",
        "outputId": "dc06a07b-ccd6-48af-8460-266797c97055"
      },
      "execution_count": 11,
      "outputs": [
        {
          "output_type": "stream",
          "name": "stdout",
          "text": [
            "Original 1D Array:\n",
            "[0 1 2 3 4 5 6 7 8 9]\n",
            "\n",
            "Reshaped to 2x5 Array:\n",
            "[[0 1 2 3 4]\n",
            " [5 6 7 8 9]]\n",
            "\n",
            "Reshaped to 5x2 Array:\n",
            "[[0 1]\n",
            " [2 3]\n",
            " [4 5]\n",
            " [6 7]\n",
            " [8 9]]\n"
          ]
        }
      ]
    },
    {
      "cell_type": "code",
      "source": [
        "# Ques 3:-  Create a 4x4 NumPy array with random float values. Add a border of zeros around it, resulting in a 6x6 array.\n",
        "# Ans:-\n",
        "import numpy as np\n",
        "# Create a 4x4 NumPy array with random float values\n",
        "array_4x4 = np.random.rand(4, 4)\n",
        "# Add a border of zeros around the 4x4 array\n",
        "array_with_border = np.pad(array_4x4, pad_width=1, mode='constant', constant_values=0)\n",
        "# Print the original and the new array\n",
        "print(\"Original 4x4 Array:\")\n",
        "print(array_4x4)\n",
        "print(\"\\n6x6 Array with a border of zeros:\")\n",
        "print(array_with_border)"
      ],
      "metadata": {
        "colab": {
          "base_uri": "https://localhost:8080/"
        },
        "id": "QpDcdYDquKKO",
        "outputId": "a3f6fe2e-a420-4641-ebf7-b0046cedfd12"
      },
      "execution_count": 12,
      "outputs": [
        {
          "output_type": "stream",
          "name": "stdout",
          "text": [
            "Original 4x4 Array:\n",
            "[[0.8465066  0.94881015 0.06011878 0.64784169]\n",
            " [0.13300236 0.99304654 0.25733877 0.82518382]\n",
            " [0.4308654  0.59362646 0.14127102 0.69296103]\n",
            " [0.0766175  0.21116008 0.87808206 0.55843178]]\n",
            "\n",
            "6x6 Array with a border of zeros:\n",
            "[[0.         0.         0.         0.         0.         0.        ]\n",
            " [0.         0.8465066  0.94881015 0.06011878 0.64784169 0.        ]\n",
            " [0.         0.13300236 0.99304654 0.25733877 0.82518382 0.        ]\n",
            " [0.         0.4308654  0.59362646 0.14127102 0.69296103 0.        ]\n",
            " [0.         0.0766175  0.21116008 0.87808206 0.55843178 0.        ]\n",
            " [0.         0.         0.         0.         0.         0.        ]]\n"
          ]
        }
      ]
    },
    {
      "cell_type": "code",
      "source": [
        "# Ques 4:- Using NumPy, create an array of integers from 10 to 60 with a step of 5.\n",
        "# Ans:-\n",
        "import numpy as np\n",
        "# Create an array of integers from 10 to 60 with a step of 5\n",
        "array_step = np.arange(10, 61, 5)\n",
        "# Print the resulting array\n",
        "print(\"Array of integers from 10 to 60 with a step of 5:\")\n",
        "print(array_step)"
      ],
      "metadata": {
        "colab": {
          "base_uri": "https://localhost:8080/"
        },
        "id": "j-lk_20OuaBv",
        "outputId": "04dcb63d-d712-429b-e26f-ba0181ee7eeb"
      },
      "execution_count": 13,
      "outputs": [
        {
          "output_type": "stream",
          "name": "stdout",
          "text": [
            "Array of integers from 10 to 60 with a step of 5:\n",
            "[10 15 20 25 30 35 40 45 50 55 60]\n"
          ]
        }
      ]
    },
    {
      "cell_type": "code",
      "source": [
        "# Ques 5:-  Create a NumPy array of strings ['python', 'numpy', 'pandas']. Apply different case transformations (uppercase, lowercase, title case, etc.) to each element.\n",
        "# Ans:-\n",
        "import numpy as np\n",
        "# Create a NumPy array of strings\n",
        "array_strings = np.array(['python', 'numpy', 'pandas'])\n",
        "# Apply different case transformations\n",
        "uppercase_array = np.char.upper(array_strings)\n",
        "lowercase_array = np.char.lower(array_strings)\n",
        "titlecase_array = np.char.title(array_strings)\n",
        "# Print the original and transformed arrays\n",
        "print(\"Original Array:\")\n",
        "print(array_strings)\n",
        "print(\"\\nUppercase Transformation:\")\n",
        "print(uppercase_array)\n",
        "print(\"\\nLowercase Transformation:\")\n",
        "print(lowercase_array)\n",
        "print(\"\\nTitle Case Transformation:\")\n",
        "print(titlecase_array)"
      ],
      "metadata": {
        "colab": {
          "base_uri": "https://localhost:8080/"
        },
        "id": "ZJ2IKNPkuroE",
        "outputId": "4b24acf9-30e6-44dd-dc2b-bfd90cde68b9"
      },
      "execution_count": 14,
      "outputs": [
        {
          "output_type": "stream",
          "name": "stdout",
          "text": [
            "Original Array:\n",
            "['python' 'numpy' 'pandas']\n",
            "\n",
            "Uppercase Transformation:\n",
            "['PYTHON' 'NUMPY' 'PANDAS']\n",
            "\n",
            "Lowercase Transformation:\n",
            "['python' 'numpy' 'pandas']\n",
            "\n",
            "Title Case Transformation:\n",
            "['Python' 'Numpy' 'Pandas']\n"
          ]
        }
      ]
    },
    {
      "cell_type": "code",
      "source": [
        "# Ques 6:- Generate a NumPy array of words. Insert a space between each character of every word in the array.\n",
        "# Ans:-\n",
        "import numpy as np\n",
        "# Create a NumPy array of words\n",
        "array_words = np.array(['hello', 'world', 'numpy', 'array'])\n",
        "# Insert a space between each character of every word\n",
        "spaced_words = np.char.join(' ', array_words)\n",
        "# Print the original and transformed arrays\n",
        "print(\"Original Array of Words:\")\n",
        "print(array_words)\n",
        "print(\"\\nArray with Spaces Between Characters:\")\n",
        "print(spaced_words)"
      ],
      "metadata": {
        "colab": {
          "base_uri": "https://localhost:8080/"
        },
        "id": "02H7AQF_u8En",
        "outputId": "d82a2b34-9dc9-438a-b9c5-59361da513ac"
      },
      "execution_count": 19,
      "outputs": [
        {
          "output_type": "stream",
          "name": "stdout",
          "text": [
            "Original Array of Words:\n",
            "['hello' 'world' 'numpy' 'array']\n",
            "\n",
            "Array with Spaces Between Characters:\n",
            "['h e l l o' 'w o r l d' 'n u m p y' 'a r r a y']\n"
          ]
        }
      ]
    },
    {
      "cell_type": "code",
      "source": [
        "# Ques 7:-  Create two 2D NumPy arrays and perform element-wise addition, subtraction, multiplication, and division.\n",
        "# Ans:-\n",
        "import numpy as np\n",
        "# Create two 2D NumPy arrays\n",
        "array1 = np.array([[1, 2, 3],\n",
        "                   [4, 5, 6],\n",
        "                   [7, 8, 9]])\n",
        "array2 = np.array([[9, 8, 7],\n",
        "                   [6, 5, 4],\n",
        "                   [3, 2, 1]])\n",
        "# Perform element-wise addition\n",
        "addition = array1 + array2\n",
        "# Perform element-wise subtraction\n",
        "subtraction = array1 - array2\n",
        "# Perform element-wise multiplication\n",
        "multiplication = array1 * array2\n",
        "# Perform element-wise division\n",
        "division = array1 / array2\n",
        "# Print the results\n",
        "print(\"Array 1:\")\n",
        "print(array1)\n",
        "print(\"\\nArray 2:\")\n",
        "print(array2)\n",
        "print(\"\\nElement-wise Addition:\")\n",
        "print(addition)\n",
        "print(\"\\nElement-wise Subtraction:\")\n",
        "print(subtraction)\n",
        "print(\"\\nElement-wise Multiplication:\")\n",
        "print(multiplication)\n",
        "print(\"\\nElement-wise Division:\")\n",
        "print(division)"
      ],
      "metadata": {
        "colab": {
          "base_uri": "https://localhost:8080/"
        },
        "id": "CLkjZEoEvDAq",
        "outputId": "c0492a4b-b654-419b-9662-4ac5bb27d919"
      },
      "execution_count": 20,
      "outputs": [
        {
          "output_type": "stream",
          "name": "stdout",
          "text": [
            "Array 1:\n",
            "[[1 2 3]\n",
            " [4 5 6]\n",
            " [7 8 9]]\n",
            "\n",
            "Array 2:\n",
            "[[9 8 7]\n",
            " [6 5 4]\n",
            " [3 2 1]]\n",
            "\n",
            "Element-wise Addition:\n",
            "[[10 10 10]\n",
            " [10 10 10]\n",
            " [10 10 10]]\n",
            "\n",
            "Element-wise Subtraction:\n",
            "[[-8 -6 -4]\n",
            " [-2  0  2]\n",
            " [ 4  6  8]]\n",
            "\n",
            "Element-wise Multiplication:\n",
            "[[ 9 16 21]\n",
            " [24 25 24]\n",
            " [21 16  9]]\n",
            "\n",
            "Element-wise Division:\n",
            "[[0.11111111 0.25       0.42857143]\n",
            " [0.66666667 1.         1.5       ]\n",
            " [2.33333333 4.         9.        ]]\n"
          ]
        }
      ]
    },
    {
      "cell_type": "code",
      "source": [
        "# Ques 8:- . Use NumPy to create a 5x5 identity matrix, then extract its diagonal elements.\n",
        "# Ans:-\n",
        "import numpy as np\n",
        "# Create a 5x5 identity matrix\n",
        "identity_matrix = np.eye(5)\n",
        "# Extract the diagonal elements\n",
        "diagonal_elements = np.diag(identity_matrix)\n",
        "# Print the identity matrix and its diagonal elements\n",
        "print(\"5x5 Identity Matrix:\")\n",
        "print(identity_matrix)\n",
        "print(\"\\nDiagonal Elements:\")\n",
        "print(diagonal_elements)"
      ],
      "metadata": {
        "colab": {
          "base_uri": "https://localhost:8080/"
        },
        "id": "4zVQGmRmvGg6",
        "outputId": "8e0297cd-4013-496a-e629-ee9025498977"
      },
      "execution_count": 21,
      "outputs": [
        {
          "output_type": "stream",
          "name": "stdout",
          "text": [
            "5x5 Identity Matrix:\n",
            "[[1. 0. 0. 0. 0.]\n",
            " [0. 1. 0. 0. 0.]\n",
            " [0. 0. 1. 0. 0.]\n",
            " [0. 0. 0. 1. 0.]\n",
            " [0. 0. 0. 0. 1.]]\n",
            "\n",
            "Diagonal Elements:\n",
            "[1. 1. 1. 1. 1.]\n"
          ]
        }
      ]
    },
    {
      "cell_type": "code",
      "source": [
        "# Ques 9:-Generate a NumPy array of 100 random integers between 0 and 1000. Find and display all prime numbers in this array.\n",
        "# Ans:-\n",
        "import numpy as np\n",
        "# Function to check if a number is prime\n",
        "def is_prime(num):\n",
        "    if num <= 1:\n",
        "        return False\n",
        "    for i in range(2, int(num**0.5) + 1):\n",
        "        if num % i == 0:\n",
        "            return False\n",
        "    return True\n",
        "# Generate a NumPy array of 100 random integers between 0 and 1000\n",
        "random_array = np.random.randint(0, 1001, size=100)\n",
        "# Find all prime numbers in the array\n",
        "prime_numbers = [num for num in random_array if is_prime(num)]\n",
        "# Print the random array and the prime numbers found\n",
        "print(\"Random Array:\")\n",
        "print(random_array)\n",
        "print(\"\\nPrime Numbers in the Array:\")\n",
        "print(prime_numbers)"
      ],
      "metadata": {
        "colab": {
          "base_uri": "https://localhost:8080/"
        },
        "id": "picTSPn0vHZU",
        "outputId": "baa8aec2-3ede-4baa-91a6-4a3fce1f8900"
      },
      "execution_count": 22,
      "outputs": [
        {
          "output_type": "stream",
          "name": "stdout",
          "text": [
            "Random Array:\n",
            "[402 466 324 523 254 417 620 381 833 997 982 743 301 244 130 720 423 567\n",
            " 962 854 484 903 631 457 710 400 129 590 678   2 388 958 935 710 667 158\n",
            " 865 552 187 870 111 744 147 100  40 179 571 820 151 283 467 253 396  11\n",
            " 756 651 110 345 432 885 241 779 103 746  10 356 885 584 551 308 122 436\n",
            " 331 460 995 486 258 787 454 640 437 463 960 622 358 887 759 574 986 382\n",
            " 671 268 729 259 560 290 446  64 986 563]\n",
            "\n",
            "Prime Numbers in the Array:\n",
            "[523, 997, 743, 631, 457, 2, 179, 571, 151, 283, 467, 11, 241, 103, 331, 787, 463, 887, 563]\n"
          ]
        }
      ]
    },
    {
      "cell_type": "code",
      "source": [
        "# Ques 10:-. Create a NumPy array representing daily temperatures for a month. Calculate and display the weekly averages\n",
        "# Ans:-\n",
        "import numpy as np\n",
        "# Create a NumPy array representing daily temperatures for a month (30 days)\n",
        "# Using random temperatures between 20 and 35 degrees Celsius\n",
        "daily_temperatures = np.random.randint(20, 36, size=30)\n",
        "# Calculate the number of complete weeks (4 complete weeks)\n",
        "num_weeks = len(daily_temperatures) // 7\n",
        "# Reshape the array into a 4-week format (7 days each)\n",
        "weekly_temperatures = daily_temperatures[:num_weeks * 7].reshape(num_weeks, 7)\n",
        "# Calculate the weekly averages\n",
        "weekly_averages = np.mean(weekly_temperatures, axis=1)\n",
        "# Print the daily temperatures and the weekly averages\n",
        "print(\"Daily Temperatures for the Month:\")\n",
        "print(daily_temperatures)\n",
        "print(\"\\nWeekly Averages:\")\n",
        "print(weekly_averages)"
      ],
      "metadata": {
        "colab": {
          "base_uri": "https://localhost:8080/"
        },
        "id": "giG0FP3bvO_y",
        "outputId": "b894e78a-479f-4dbf-8404-5f2bf54b2c03"
      },
      "execution_count": 23,
      "outputs": [
        {
          "output_type": "stream",
          "name": "stdout",
          "text": [
            "Daily Temperatures for the Month:\n",
            "[29 26 25 33 24 30 21 24 22 35 26 27 26 26 31 29 21 21 30 25 26 25 35 22\n",
            " 30 24 29 26 34 27]\n",
            "\n",
            "Weekly Averages:\n",
            "[26.85714286 26.57142857 26.14285714 27.28571429]\n"
          ]
        }
      ]
    },
    {
      "cell_type": "code",
      "source": [],
      "metadata": {
        "id": "OoSfS1XrwYuU"
      },
      "execution_count": null,
      "outputs": []
    }
  ]
}